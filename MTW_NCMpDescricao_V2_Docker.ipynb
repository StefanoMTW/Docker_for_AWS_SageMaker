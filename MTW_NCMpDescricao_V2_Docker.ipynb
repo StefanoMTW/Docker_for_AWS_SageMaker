{
 "cells": [
  {
   "cell_type": "code",
   "execution_count": 3,
   "metadata": {},
   "outputs": [],
   "source": [
    "import pandas as pd\n",
    "import numpy as np\n",
    "import aiobotocore"
   ]
  },
  {
   "cell_type": "code",
   "execution_count": 4,
   "metadata": {},
   "outputs": [
    {
     "data": {
      "text/html": [
       "<div>\n",
       "<style scoped>\n",
       "    .dataframe tbody tr th:only-of-type {\n",
       "        vertical-align: middle;\n",
       "    }\n",
       "\n",
       "    .dataframe tbody tr th {\n",
       "        vertical-align: top;\n",
       "    }\n",
       "\n",
       "    .dataframe thead th {\n",
       "        text-align: right;\n",
       "    }\n",
       "</style>\n",
       "<table border=\"1\" class=\"dataframe\">\n",
       "  <thead>\n",
       "    <tr style=\"text-align: right;\">\n",
       "      <th></th>\n",
       "      <th>UF Origem</th>\n",
       "      <th>UF Destino</th>\n",
       "      <th>Vlr ICMS - C100</th>\n",
       "      <th>NCM</th>\n",
       "      <th>Descrição Complementar</th>\n",
       "    </tr>\n",
       "  </thead>\n",
       "  <tbody>\n",
       "    <tr>\n",
       "      <th>0</th>\n",
       "      <td>SP</td>\n",
       "      <td>SP</td>\n",
       "      <td>2.43</td>\n",
       "      <td>NaN</td>\n",
       "      <td>NaN</td>\n",
       "    </tr>\n",
       "    <tr>\n",
       "      <th>1</th>\n",
       "      <td>SP</td>\n",
       "      <td>SP</td>\n",
       "      <td>8.00</td>\n",
       "      <td>NaN</td>\n",
       "      <td>NaN</td>\n",
       "    </tr>\n",
       "    <tr>\n",
       "      <th>2</th>\n",
       "      <td>SP</td>\n",
       "      <td>SP</td>\n",
       "      <td>3.03</td>\n",
       "      <td>NaN</td>\n",
       "      <td>NaN</td>\n",
       "    </tr>\n",
       "    <tr>\n",
       "      <th>3</th>\n",
       "      <td>SP</td>\n",
       "      <td>SP</td>\n",
       "      <td>9.57</td>\n",
       "      <td>NaN</td>\n",
       "      <td>NaN</td>\n",
       "    </tr>\n",
       "    <tr>\n",
       "      <th>4</th>\n",
       "      <td>SP</td>\n",
       "      <td>SP</td>\n",
       "      <td>8.00</td>\n",
       "      <td>NaN</td>\n",
       "      <td>NaN</td>\n",
       "    </tr>\n",
       "  </tbody>\n",
       "</table>\n",
       "</div>"
      ],
      "text/plain": [
       "  UF Origem UF Destino  Vlr ICMS - C100  NCM Descrição Complementar\n",
       "0        SP         SP             2.43  NaN                    NaN\n",
       "1        SP         SP             8.00  NaN                    NaN\n",
       "2        SP         SP             3.03  NaN                    NaN\n",
       "3        SP         SP             9.57  NaN                    NaN\n",
       "4        SP         SP             8.00  NaN                    NaN"
      ]
     },
     "execution_count": 4,
     "metadata": {},
     "output_type": "execute_result"
    }
   ],
   "source": [
    "#load the file\n",
    "\n",
    "bucket='mtw-sm-decljunc-dev'\n",
    "folder= 'declaracoes'\n",
    "data_key = 'Declarações Federais - EFD - ICMS-IPI - C100, C170 - Documento e Itens - Nota Fiscal - DB Parte2.csv'\n",
    "data_location = 's3://{}/{}/{}'.format(bucket, folder, data_key)\n",
    "\n",
    "df = pd.read_csv(data_location)"
   ]
  },
  {
   "cell_type": "code",
   "execution_count": 5,
   "metadata": {},
   "outputs": [
    {
     "data": {
      "text/html": [
       "<div>\n",
       "<style scoped>\n",
       "    .dataframe tbody tr th:only-of-type {\n",
       "        vertical-align: middle;\n",
       "    }\n",
       "\n",
       "    .dataframe tbody tr th {\n",
       "        vertical-align: top;\n",
       "    }\n",
       "\n",
       "    .dataframe thead th {\n",
       "        text-align: right;\n",
       "    }\n",
       "</style>\n",
       "<table border=\"1\" class=\"dataframe\">\n",
       "  <thead>\n",
       "    <tr style=\"text-align: right;\">\n",
       "      <th></th>\n",
       "      <th>UF Origem</th>\n",
       "      <th>UF Destino</th>\n",
       "      <th>Vlr ICMS - C100</th>\n",
       "      <th>NCM</th>\n",
       "      <th>Descrição Complementar</th>\n",
       "    </tr>\n",
       "  </thead>\n",
       "  <tbody>\n",
       "    <tr>\n",
       "      <th>413</th>\n",
       "      <td>SP</td>\n",
       "      <td>SP</td>\n",
       "      <td>0.00</td>\n",
       "      <td>7051900.0</td>\n",
       "      <td>MIX DE FOLHAS PICADAS</td>\n",
       "    </tr>\n",
       "    <tr>\n",
       "      <th>538</th>\n",
       "      <td>SP</td>\n",
       "      <td>SP</td>\n",
       "      <td>5.48</td>\n",
       "      <td>9041100.0</td>\n",
       "      <td>PIMENTAO VERDE CUBO 10</td>\n",
       "    </tr>\n",
       "    <tr>\n",
       "      <th>539</th>\n",
       "      <td>SP</td>\n",
       "      <td>SP</td>\n",
       "      <td>2.74</td>\n",
       "      <td>9041100.0</td>\n",
       "      <td>PIMENTAO VERMELHO CUBO 10</td>\n",
       "    </tr>\n",
       "    <tr>\n",
       "      <th>540</th>\n",
       "      <td>SP</td>\n",
       "      <td>SP</td>\n",
       "      <td>5.48</td>\n",
       "      <td>9041100.0</td>\n",
       "      <td>PIMENTAO VERMELHO CUBO 10</td>\n",
       "    </tr>\n",
       "    <tr>\n",
       "      <th>550</th>\n",
       "      <td>SP</td>\n",
       "      <td>SP</td>\n",
       "      <td>2.74</td>\n",
       "      <td>20021000.0</td>\n",
       "      <td>TOMATE GOMO COM SEMENTE 1/8</td>\n",
       "    </tr>\n",
       "  </tbody>\n",
       "</table>\n",
       "</div>"
      ],
      "text/plain": [
       "    UF Origem UF Destino  Vlr ICMS - C100         NCM  \\\n",
       "413        SP         SP             0.00   7051900.0   \n",
       "538        SP         SP             5.48   9041100.0   \n",
       "539        SP         SP             2.74   9041100.0   \n",
       "540        SP         SP             5.48   9041100.0   \n",
       "550        SP         SP             2.74  20021000.0   \n",
       "\n",
       "          Descrição Complementar  \n",
       "413        MIX DE FOLHAS PICADAS  \n",
       "538       PIMENTAO VERDE CUBO 10  \n",
       "539    PIMENTAO VERMELHO CUBO 10  \n",
       "540    PIMENTAO VERMELHO CUBO 10  \n",
       "550  TOMATE GOMO COM SEMENTE 1/8  "
      ]
     },
     "execution_count": 5,
     "metadata": {},
     "output_type": "execute_result"
    }
   ],
   "source": [
    "from sklearn import decomposition, ensemble\n",
    "df.dropna(inplace = True)"
   ]
  },
  {
   "cell_type": "code",
   "execution_count": 7,
   "metadata": {},
   "outputs": [
    {
     "data": {
      "image/png": "[encoded data removed]",
      "text/plain": [
       "<Figure size 432x288 with 1 Axes>"
      ]
     },
     "metadata": {
      "needs_background": "light"
     },
     "output_type": "display_data"
    }
   ],
   "source": [
    "# Check for imbalances in the data\n",
    "Z[\"NCM\"].value_counts().plot(kind='bar', title='Count (target)');"
   ]
  },
  {
   "cell_type": "code",
   "execution_count": 8,
   "metadata": {},
   "outputs": [],
   "source": [
    "y = df[\"NCM\"]"
   ]
  },
  {
   "cell_type": "code",
   "execution_count": 9,
   "metadata": {},
   "outputs": [],
   "source": [
    "X = df[\"Descrição Complementar\"]"
   ]
  },
  {
   "cell_type": "code",
   "execution_count": 10,
   "metadata": {},
   "outputs": [],
   "source": [
    "from sklearn.feature_extraction.text import TfidfVectorizer, CountVectorizer\n",
    "# create a count vectorizer object \n",
    "tfidf_vect = TfidfVectorizer(analyzer='word', token_pattern=r'\\w{1,}')\n",
    "\n",
    "\n",
    "tfidf_vect.fit(X)\n",
    "\n",
    "# transform the training data using count vectorizer object for Descriptions\n",
    "tfidf_vec_Descriptions = tfidf_vect.transform(X)\n",
    "X = tfidf_vec_Descriptions"
   ]
  },
  {
   "cell_type": "code",
   "execution_count": 14,
   "metadata": {},
   "outputs": [
    {
     "name": "stderr",
     "output_type": "stream",
     "text": [
      "/opt/conda/lib/python3.7/site-packages/sklearn/model_selection/_split.py:667: UserWarning: The least populated class in y has only 1 members, which is less than n_splits=3.\n",
      "  % (min_groups, self.n_splits)), UserWarning)\n",
      "/opt/conda/lib/python3.7/site-packages/lightgbm/sklearn.py:726: UserWarning: 'early_stopping_rounds' argument is deprecated and will be removed in a future release of LightGBM. Pass 'early_stopping()' callback via 'callbacks' argument instead.\n",
      "  _log_warning(\"'early_stopping_rounds' argument is deprecated and will be removed in a future release of LightGBM. \"\n"
     ]
    },
    {
     "name": "stdout",
     "output_type": "stream",
     "text": [
      "[1]\tvalid_0's multi_logloss: 2.48074\tvalid_1's multi_logloss: 2.48448\n",
      "[2]\tvalid_0's multi_logloss: 1.98092\tvalid_1's multi_logloss: 1.98448\n",
      "[3]\tvalid_0's multi_logloss: 1.6427\tvalid_1's multi_logloss: 1.64599\n",
      "[4]\tvalid_0's multi_logloss: 1.38961\tvalid_1's multi_logloss: 1.39265\n",
      "[5]\tvalid_0's multi_logloss: 1.19221\tvalid_1's multi_logloss: 1.1952\n",
      "[6]\tvalid_0's multi_logloss: 1.03361\tvalid_1's multi_logloss: 1.03662\n",
      "[7]\tvalid_0's multi_logloss: 0.904062\tvalid_1's multi_logloss: 0.907133\n",
      "[8]\tvalid_0's multi_logloss: 0.797079\tvalid_1's multi_logloss: 0.800198\n",
      "[9]\tvalid_0's multi_logloss: 0.707579\tvalid_1's multi_logloss: 0.710667\n",
      "[10]\tvalid_0's multi_logloss: 0.632215\tvalid_1's multi_logloss: 0.635345\n",
      "[11]\tvalid_0's multi_logloss: 0.568419\tvalid_1's multi_logloss: 0.57155\n",
      "[12]\tvalid_0's multi_logloss: 0.513973\tvalid_1's multi_logloss: 0.517074\n",
      "[13]\tvalid_0's multi_logloss: 0.466885\tvalid_1's multi_logloss: 0.469969\n",
      "[14]\tvalid_0's multi_logloss: 0.426473\tvalid_1's multi_logloss: 0.429509\n",
      "[15]\tvalid_0's multi_logloss: 0.391354\tvalid_1's multi_logloss: 0.39431\n",
      "[16]\tvalid_0's multi_logloss: 0.360945\tvalid_1's multi_logloss: 0.363784\n",
      "[17]\tvalid_0's multi_logloss: 0.334196\tvalid_1's multi_logloss: 0.336942\n",
      "[18]\tvalid_0's multi_logloss: 0.310624\tvalid_1's multi_logloss: 0.313332\n",
      "[19]\tvalid_0's multi_logloss: 0.290026\tvalid_1's multi_logloss: 0.292663\n",
      "[20]\tvalid_0's multi_logloss: 0.271621\tvalid_1's multi_logloss: 0.274216\n",
      "[21]\tvalid_0's multi_logloss: 0.255254\tvalid_1's multi_logloss: 0.257773\n",
      "[22]\tvalid_0's multi_logloss: 0.240722\tvalid_1's multi_logloss: 0.24314\n",
      "[23]\tvalid_0's multi_logloss: 0.227726\tvalid_1's multi_logloss: 0.230082\n",
      "[24]\tvalid_0's multi_logloss: 0.216078\tvalid_1's multi_logloss: 0.218385\n",
      "[25]\tvalid_0's multi_logloss: 0.205544\tvalid_1's multi_logloss: 0.207829\n",
      "[26]\tvalid_0's multi_logloss: 0.196063\tvalid_1's multi_logloss: 0.198306\n",
      "[27]\tvalid_0's multi_logloss: 0.187471\tvalid_1's multi_logloss: 0.189677\n",
      "[28]\tvalid_0's multi_logloss: 0.17966\tvalid_1's multi_logloss: 0.181845\n",
      "[29]\tvalid_0's multi_logloss: 0.172607\tvalid_1's multi_logloss: 0.174744\n",
      "[30]\tvalid_0's multi_logloss: 0.16606\tvalid_1's multi_logloss: 0.168209\n",
      "[1]\tvalid_0's multi_logloss: 2.48264\tvalid_1's multi_logloss: 2.48068\n",
      "[2]\tvalid_0's multi_logloss: 1.98261\tvalid_1's multi_logloss: 1.9811\n",
      "[3]\tvalid_0's multi_logloss: 1.6442\tvalid_1's multi_logloss: 1.64298\n",
      "[4]\tvalid_0's multi_logloss: 1.39105\tvalid_1's multi_logloss: 1.38978\n",
      "[5]\tvalid_0's multi_logloss: 1.19369\tvalid_1's multi_logloss: 1.19224\n",
      "[6]\tvalid_0's multi_logloss: 1.03517\tvalid_1's multi_logloss: 1.03349\n",
      "[7]\tvalid_0's multi_logloss: 0.905704\tvalid_1's multi_logloss: 0.90385\n",
      "[8]\tvalid_0's multi_logloss: 0.7988\tvalid_1's multi_logloss: 0.796757\n",
      "[9]\tvalid_0's multi_logloss: 0.709328\tvalid_1's multi_logloss: 0.707168\n",
      "[10]\tvalid_0's multi_logloss: 0.634021\tvalid_1's multi_logloss: 0.631732\n",
      "[11]\tvalid_0's multi_logloss: 0.570251\tvalid_1's multi_logloss: 0.567887\n",
      "[12]\tvalid_0's multi_logloss: 0.515812\tvalid_1's multi_logloss: 0.513396\n",
      "[13]\tvalid_0's multi_logloss: 0.46874\tvalid_1's multi_logloss: 0.466259\n",
      "[14]\tvalid_0's multi_logloss: 0.428339\tvalid_1's multi_logloss: 0.425777\n",
      "[15]\tvalid_0's multi_logloss: 0.393204\tvalid_1's multi_logloss: 0.39061\n",
      "[16]\tvalid_0's multi_logloss: 0.362766\tvalid_1's multi_logloss: 0.360143\n",
      "[17]\tvalid_0's multi_logloss: 0.335993\tvalid_1's multi_logloss: 0.333348\n",
      "[18]\tvalid_0's multi_logloss: 0.312422\tvalid_1's multi_logloss: 0.309737\n",
      "[19]\tvalid_0's multi_logloss: 0.291807\tvalid_1's multi_logloss: 0.289102\n",
      "[20]\tvalid_0's multi_logloss: 0.273394\tvalid_1's multi_logloss: 0.27067\n",
      "[21]\tvalid_0's multi_logloss: 0.257\tvalid_1's multi_logloss: 0.254281\n",
      "[22]\tvalid_0's multi_logloss: 0.242439\tvalid_1's multi_logloss: 0.239706\n",
      "[23]\tvalid_0's multi_logloss: 0.229427\tvalid_1's multi_logloss: 0.22668\n",
      "[24]\tvalid_0's multi_logloss: 0.217758\tvalid_1's multi_logloss: 0.215025\n",
      "[25]\tvalid_0's multi_logloss: 0.207227\tvalid_1's multi_logloss: 0.204463\n",
      "[26]\tvalid_0's multi_logloss: 0.197741\tvalid_1's multi_logloss: 0.194952\n",
      "[27]\tvalid_0's multi_logloss: 0.189138\tvalid_1's multi_logloss: 0.186343\n",
      "[28]\tvalid_0's multi_logloss: 0.181324\tvalid_1's multi_logloss: 0.178518\n",
      "[29]\tvalid_0's multi_logloss: 0.174256\tvalid_1's multi_logloss: 0.171446\n",
      "[30]\tvalid_0's multi_logloss: 0.167735\tvalid_1's multi_logloss: 0.164858\n",
      "[1]\tvalid_0's multi_logloss: 2.48258\tvalid_1's multi_logloss: 2.48081\n",
      "[2]\tvalid_0's multi_logloss: 1.98279\tvalid_1's multi_logloss: 1.98074\n",
      "[3]\tvalid_0's multi_logloss: 1.64449\tvalid_1's multi_logloss: 1.64241\n",
      "[4]\tvalid_0's multi_logloss: 1.39122\tvalid_1's multi_logloss: 1.38944\n",
      "[5]\tvalid_0's multi_logloss: 1.19372\tvalid_1's multi_logloss: 1.19219\n",
      "[6]\tvalid_0's multi_logloss: 1.03506\tvalid_1's multi_logloss: 1.03372\n",
      "[7]\tvalid_0's multi_logloss: 0.905492\tvalid_1's multi_logloss: 0.904274\n",
      "[8]\tvalid_0's multi_logloss: 0.798477\tvalid_1's multi_logloss: 0.797402\n",
      "[9]\tvalid_0's multi_logloss: 0.708917\tvalid_1's multi_logloss: 0.707989\n",
      "[10]\tvalid_0's multi_logloss: 0.633538\tvalid_1's multi_logloss: 0.632698\n",
      "[11]\tvalid_0's multi_logloss: 0.569718\tvalid_1's multi_logloss: 0.568951\n",
      "[12]\tvalid_0's multi_logloss: 0.515235\tvalid_1's multi_logloss: 0.51455\n",
      "[13]\tvalid_0's multi_logloss: 0.468114\tvalid_1's multi_logloss: 0.46751\n",
      "[14]\tvalid_0's multi_logloss: 0.427643\tvalid_1's multi_logloss: 0.427169\n",
      "[15]\tvalid_0's multi_logloss: 0.39246\tvalid_1's multi_logloss: 0.392099\n",
      "[16]\tvalid_0's multi_logloss: 0.361963\tvalid_1's multi_logloss: 0.361748\n",
      "[17]\tvalid_0's multi_logloss: 0.335145\tvalid_1's multi_logloss: 0.335044\n",
      "[18]\tvalid_0's multi_logloss: 0.311535\tvalid_1's multi_logloss: 0.311511\n",
      "[19]\tvalid_0's multi_logloss: 0.290883\tvalid_1's multi_logloss: 0.29095\n",
      "[20]\tvalid_0's multi_logloss: 0.272443\tvalid_1's multi_logloss: 0.272572\n",
      "[21]\tvalid_0's multi_logloss: 0.256027\tvalid_1's multi_logloss: 0.256227\n",
      "[22]\tvalid_0's multi_logloss: 0.241423\tvalid_1's multi_logloss: 0.241738\n",
      "[23]\tvalid_0's multi_logloss: 0.228381\tvalid_1's multi_logloss: 0.228771\n",
      "[24]\tvalid_0's multi_logloss: 0.216705\tvalid_1's multi_logloss: 0.217131\n",
      "[25]\tvalid_0's multi_logloss: 0.206146\tvalid_1's multi_logloss: 0.206625\n",
      "[26]\tvalid_0's multi_logloss: 0.196629\tvalid_1's multi_logloss: 0.197175\n",
      "[27]\tvalid_0's multi_logloss: 0.18801\tvalid_1's multi_logloss: 0.188599\n",
      "[28]\tvalid_0's multi_logloss: 0.180182\tvalid_1's multi_logloss: 0.180802\n",
      "[29]\tvalid_0's multi_logloss: 0.173095\tvalid_1's multi_logloss: 0.173769\n",
      "[30]\tvalid_0's multi_logloss: 0.166534\tvalid_1's multi_logloss: 0.167261\n"
     ]
    }
   ],
   "source": [
    "#Testing Algorithm 1\n",
    "\n",
    "from lightgbm import LGBMClassifier\n",
    "from sklearn.model_selection import cross_val_score\n",
    "from sklearn.model_selection import StratifiedKFold\n",
    "from sklearn.metrics import accuracy_score, confusion_matrix, f1_score\n",
    "stf = StratifiedKFold(n_splits=3, random_state=1234, shuffle = True)\n",
    "stf.get_n_splits(X,y)\n",
    "scoresss = []\n",
    "f1_Algo1= []\n",
    "for train, test in stf.split(X,y):\n",
    "    x_train, x_test = X[train], X[test]\n",
    "    y_train, y_test = y.iloc[train], y.iloc[test]\n",
    "    lit = LGBMClassifier(n_estimators= 30 ,reg_lambda=25)\n",
    "    lit.fit(X,y,eval_set=[(x_train,y_train), (x_test,y_test)],early_stopping_rounds= 1000, eval_metric  = 'logloss',\n",
    "            \n",
    "           \n",
    "            )\n",
    "    scoresss.append(accuracy_score(y_test,lit.predict(x_test)))"
   ]
  },
  {
   "cell_type": "code",
   "execution_count": 15,
   "metadata": {},
   "outputs": [],
   "source": [
    "f1_Algo1.append(f1_score(y_test,lit.predict(x_test),  average='micro'))"
   ]
  },
  {
   "cell_type": "code",
   "execution_count": 16,
   "metadata": {},
   "outputs": [
    {
     "data": {
      "text/plain": [
       "0.9661296186360729"
      ]
     },
     "execution_count": 16,
     "metadata": {},
     "output_type": "execute_result"
    }
   ],
   "source": [
    "import numpy as np\n",
    "np.mean(scoresss)"
   ]
  },
  {
   "cell_type": "code",
   "execution_count": 17,
   "metadata": {},
   "outputs": [
    {
     "data": {
      "text/plain": [
       "0.9660237736943106"
      ]
     },
     "execution_count": 17,
     "metadata": {},
     "output_type": "execute_result"
    }
   ],
   "source": [
    "np.mean(f1_Algo1)"
   ]
  },
  {
   "cell_type": "code",
   "execution_count": 18,
   "metadata": {},
   "outputs": [],
   "source": [
    "score_train = lit.score(x_train, y_train)\n",
    "score_test = lit.score(x_test, y_test)"
   ]
  },
  {
   "cell_type": "code",
   "execution_count": 19,
   "metadata": {},
   "outputs": [
    {
     "name": "stdout",
     "output_type": "stream",
     "text": [
      "Accuracy train set: 0.966182541106954\n",
      "Accuracy test set: 0.9660237736943106\n"
     ]
    }
   ],
   "source": [
    "print(\"Accuracy train set:\", score_train)\n",
    "print(\"Accuracy test set:\", score_test)"
   ]
  },
  {
   "cell_type": "code",
   "execution_count": null,
   "metadata": {},
   "outputs": [],
   "source": [
    "# Check how well the model Classified the data\n",
    "from sklearn.metrics import classification_report , confusion_matrix\n",
    "import seaborn as sns\n",
    "lr_pred = lit.predict(x_test)\n",
    "con_matrix = np.array(confusion_matrix(y_test, lr_pred ))\n",
    "print(\"Confusion matrix:\\n\" , con_matrix)\n",
    "sns.heatmap(con_matrix, annot =True)\n",
    "class_report = classification_report(y_test, lr_pred,\n",
    "                                    )\n",
    "print(\"Classification report : \\n\" , class_report)"
   ]
  },
  {
   "cell_type": "code",
   "execution_count": null,
   "metadata": {},
   "outputs": [],
   "source": [
    "#run only cells above\n",
    "####\n",
    "#"
   ]
  }
 ],
 "metadata": {
  "instance_type": "ml.t3.medium",
  "interpreter": {
   "hash": "183bbf6827d058c2a2fb0f4acdc0420849dda2b4380af0e437e38c64d798d8b7"
  },
  "kernelspec": {
   "display_name": "Python 3",
   "language": "python",
   "name": "python3"
  },
  "language_info": {
   "codemirror_mode": {
    "name": "ipython",
    "version": 3
   },
   "file_extension": ".py",
   "mimetype": "text/x-python",
   "name": "python",
   "nbconvert_exporter": "python",
   "pygments_lexer": "ipython3",
   "version": "3.8.8"
  }
 },
 "nbformat": 4,
 "nbformat_minor": 4
}
